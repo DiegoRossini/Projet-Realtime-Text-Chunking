{
 "cells": [
  {
   "cell_type": "code",
   "execution_count": 1,
   "id": "80cb5b14",
   "metadata": {},
   "outputs": [],
   "source": [
    "# Importation des librairies nécessaires au pré-traitements des données\n",
    "\n",
    "import pandas as pd\n",
    "import nltk\n",
    "import os\n",
    "import glob\n",
    "import time\n",
    "import re\n",
    "from nltk.tokenize import word_tokenize"
   ]
  },
  {
   "cell_type": "code",
   "execution_count": 2,
   "id": "53e69e64",
   "metadata": {},
   "outputs": [],
   "source": [
    "# Importation du csv \"Formulation\". Le meme traitement sera effectué sur les csv \"Planification\" et \"Revision\"\n",
    "\n",
    "df = pd.read_table(\"./csv_formulation.csv\", encoding=\"utf-8\",on_bad_lines=\"skip\")"
   ]
  },
  {
   "cell_type": "code",
   "execution_count": 3,
   "id": "4378698d",
   "metadata": {},
   "outputs": [],
   "source": [
    "# On recupère la colonne \"burst\" qui contient ce qui a été écrit lors de l'expérience de recherche\n",
    "\n",
    "burst = df[\"burst\"]"
   ]
  },
  {
   "cell_type": "code",
   "execution_count": 4,
   "id": "adf6c36b",
   "metadata": {},
   "outputs": [
    {
     "data": {
      "text/plain": [
       "0                                             NaN\n",
       "1                           L'arrêt du tabac est \n",
       "2      un sujet qui est de plus en plus fréquent \n",
       "3    dans les conversations en France, où encore \n",
       "4                                             NaN\n",
       "5                                             NaN\n",
       "Name: burst, dtype: object"
      ]
     },
     "execution_count": 4,
     "metadata": {},
     "output_type": "execute_result"
    }
   ],
   "source": [
    "# Visualisation des premières 5 phrases de la colonne \"burst\"tokenize\n",
    "\n",
    "burst[0:6]"
   ]
  },
  {
   "cell_type": "code",
   "execution_count": 5,
   "id": "d37b1e5c",
   "metadata": {},
   "outputs": [],
   "source": [
    "# On effece tous les valeurs nulles et qui ne seront pas traitées par la suite\n",
    "\n",
    "burst_clean = [phrase.strip() for phrase in burst if type(phrase) != float]"
   ]
  },
  {
   "cell_type": "code",
   "execution_count": 6,
   "id": "01b7c4a9",
   "metadata": {},
   "outputs": [],
   "source": [
    "# Création des bigrammes des phrases contenus dans la colonnes \"burst\" nettoyée des valeurs nulles \n",
    "\n",
    "burst_clean = list(nltk.bigrams(burst_clean))\n",
    "\n",
    "\n",
    "# Unification des bigrammes en une seule phrase sans spécification de l'emplacement de la pause entre les deux\n",
    "# Ces sont les données qu'on passera au traitement du chunker SEM\n",
    "\n",
    "burst_clean_no_pause = [(p1,p2) for p1,p2 in burst_clean]\n",
    "burst_clean_no_pause = [\" \".join(phrase) for phrase in burst_clean_no_pause]\n",
    "\n",
    " \n",
    "# Unification des bigrammes en une seule phrase avec spécification de l'emplacement de la pause entre les deux\n",
    "# Cette variable nous servira plus tard lorsqu'on va insérer les pauses à l'intérieur des données output de SEM\n",
    "\n",
    "burst_clean_with_pause = [(p1,'@',p2) for p1,p2 in burst_clean]\n",
    "burst_clean_with_pause = [\" \".join(phrase) for phrase in burst_clean_with_pause]"
   ]
  },
  {
   "cell_type": "code",
   "execution_count": 7,
   "id": "66f2d046",
   "metadata": {},
   "outputs": [],
   "source": [
    "# Removing white spaces between the pause symbol. This will be usefull when we will look for the correct index of\n",
    "# al pauses in our bigrams\n",
    "\n",
    "# On efface l'espace entre le symbole représentant la pause (\"@\") et ses mots voisine. Cela\n",
    "# a pour but de faciliter l'insértion de la pause dans la suite du script.\n",
    "\n",
    "for i,phrase in enumerate(burst_clean_with_pause):\n",
    "    for idx,char in enumerate(phrase):\n",
    "        new_phrase = ''\n",
    "        if char == '@':\n",
    "            new_phrase = phrase[:idx-1]+'@'+phrase[idx+2:]\n",
    "            burst_clean_with_pause[i] = new_phrase\n",
    "            break"
   ]
  },
  {
   "cell_type": "code",
   "execution_count": 8,
   "id": "7a3be62c",
   "metadata": {},
   "outputs": [
    {
     "data": {
      "text/plain": [
       "[\"L'arrêt du tabac est@un sujet qui est de plus en plus fréquent\",\n",
       " 'un sujet qui est de plus en plus fréquent@dans les conversations en France, où encore',\n",
       " 'dans les conversations en France, où encore@équent']"
      ]
     },
     "execution_count": 8,
     "metadata": {},
     "output_type": "execute_result"
    }
   ],
   "source": [
    "# Visualisation exemple bigrammes avec symbole de pause...\n",
    "\n",
    "burst_clean_with_pause[:3]"
   ]
  },
  {
   "cell_type": "code",
   "execution_count": 9,
   "id": "0b501191",
   "metadata": {},
   "outputs": [
    {
     "data": {
      "text/plain": [
       "[\"L'arrêt du tabac est un sujet qui est de plus en plus fréquent\",\n",
       " 'un sujet qui est de plus en plus fréquent dans les conversations en France, où encore',\n",
       " 'dans les conversations en France, où encore équent']"
      ]
     },
     "execution_count": 9,
     "metadata": {},
     "output_type": "execute_result"
    }
   ],
   "source": [
    "# .. et sans symbole de pause\n",
    "\n",
    "burst_clean_no_pause[0:3]"
   ]
  },
  {
   "cell_type": "code",
   "execution_count": 10,
   "id": "91ccc794",
   "metadata": {},
   "outputs": [],
   "source": [
    "# This function simply record the index position of all pauses\n",
    "\n",
    "#def find_pause_idx_in_bigrams(burst_pauses):\n",
    " #   pause_idxs = []\n",
    "  #  for bigram in burst_pauses:\n",
    "   #     idx_pause = bigram.find('@')\n",
    "    #    pause_idxs.append(idx_pause)\n",
    "            \n",
    "    #return pause_idxs"
   ]
  },
  {
   "cell_type": "code",
   "execution_count": 11,
   "id": "70d161cd",
   "metadata": {},
   "outputs": [],
   "source": [
    "#pauses_idx_list = find_pause_idx_in_bigrams(burst_clean_with_pause)"
   ]
  },
  {
   "cell_type": "code",
   "execution_count": 12,
   "id": "bc5fd53a",
   "metadata": {},
   "outputs": [],
   "source": [
    "#with open('../Traitement_textes_finaux/TEST_burst_no_pause_for_SEM_formulation.txt','w') as f:\n",
    " #   for bigram in burst_clean_no_pause:\n",
    "  #      f.write(\"'\")\n",
    "   #     f.write(bigram)\n",
    "    #    f.write(\"'\")\n",
    "  #      f.write('\\n')\n",
    "#f.close()"
   ]
  },
  {
   "cell_type": "code",
   "execution_count": 13,
   "id": "c7fe0256",
   "metadata": {},
   "outputs": [],
   "source": [
    "# Importation de la librairie \"Selenium\" et des fonctions qui permettent de passer au chunker SEM en ligne chaque \n",
    "# bigramme.\n",
    "\n",
    "import selenium\n",
    "from selenium import webdriver\n",
    "from selenium.webdriver.common.by import By\n",
    "from selenium.webdriver.support.wait import WebDriverWait\n",
    "from selenium.webdriver.common.alert import Alert\n",
    "from selenium.webdriver.firefox.options import Options"
   ]
  },
  {
   "cell_type": "code",
   "execution_count": 14,
   "id": "6e563000",
   "metadata": {},
   "outputs": [],
   "source": [
    "# Cette fonction écrit ligne par ligne sur un document texte l'output du chunker SEM\n",
    "\n",
    "def write_chunks_from_bigrams_burst(burst_clean_no_pause):\n",
    "    \n",
    "    # On fait en sorte qu'aucune fenetre de navigation n'apparaisse\n",
    "    options = Options()\n",
    "    options.headless = True\n",
    "    \n",
    "    # On fait une boucle sur chaque bigramme contenu dans \"burst_clean_no_pause\" et on prend en considération que les\n",
    "    # bigrammes qui contiennent du texte\n",
    "    for idx,bigram in enumerate(burst_clean_no_pause):\n",
    "        bigram = str(bigram)\n",
    "        if bigram == \" \":\n",
    "            with open(\"../Selenium_SEM_output//bigram_chunks_complete_formulation\",\"a+\", encoding=\"utf-8\") as file:\n",
    "                file.write(\"\\n\")\n",
    "            file.close()\n",
    "            continue\n",
    "            \n",
    "        else:\n",
    "            # On ouvre le browser FireFox\n",
    "            driver = webdriver.Firefox(options=options)\n",
    "            \n",
    "            # On navige vers le site de SEM\n",
    "            url = \"https://apps.lattice.cnrs.fr/sem/index\"\n",
    "            driver.get(url)\n",
    "            driver.implicitly_wait(5)\n",
    "            \n",
    "            # On accepte les cookies et les fenetres de popup\n",
    "            driver.switch_to.alert.dismiss()\n",
    "            time.sleep(2)\n",
    "            time.sleep(1)\n",
    "            \n",
    "            # On écrit le bigrammes sur la zone de texte et on lance la division en chunks\n",
    "            driver.find_element(By.XPATH,\"//textarea\").send_keys(bigram)\n",
    "            time.sleep(1)\n",
    "            driver.find_element(By.ID,\"inlineCheckbox2\").click()\n",
    "            time.sleep(1)\n",
    "            driver.find_element(By.XPATH,\"//button\").click()\n",
    "            time.sleep(1)\n",
    "            driver.switch_to.alert.dismiss()\n",
    "            time.sleep(1)\n",
    "            driver.find_element(By.XPATH,\"//label[contains(.,'Chunking')]\").click()\n",
    "            time.sleep(1)\n",
    "            \n",
    "            # On telecharge le fichier texte conténant le bigramme divisé en chunk\n",
    "            driver.find_element(By.XPATH,\"//a[contains(.,'⬇ text')]\").click()\n",
    "\n",
    "            \n",
    "            with open(\"../Selenium_SEM_output//bigram_chunks_complete_formulation\",\"a+\", encoding=\"utf-8\") as file:\n",
    "                \n",
    "                # On ouvre le fichier texte télécharge dupis le site de SEM contenant le bigramme, on écrit son contenu\n",
    "                # sur un fichier appelé \"bigram_chunks_complete_\" et on éfface le fichier téléchargé auparavant\n",
    "                file_path = glob.glob(\"/home/diego/Downloads/sem_*.text\")\n",
    "                file_path = str(file_path)[2:len(str(file_path))-2]\n",
    "                with open(file_path,\"r\",encoding=\"utf-8\") as f:\n",
    "                    unique_line = \"\"\n",
    "                    for line in f.readlines():\n",
    "                        line = line.strip('\\n')\n",
    "                        unique_line = unique_line+\" \"+line\n",
    "                file.write(unique_line)\n",
    "                file.write(\"\\n\")\n",
    "                os.remove(file_path)\n",
    "            file.close()\n",
    "            driver.close()"
   ]
  },
  {
   "cell_type": "code",
   "execution_count": 15,
   "id": "07de9834",
   "metadata": {},
   "outputs": [
    {
     "name": "stderr",
     "output_type": "stream",
     "text": [
      "/home/diego/anaconda3/envs/myenv/lib/python3.7/site-packages/ipykernel_launcher.py:7: DeprecationWarning: headless property is deprecated, instead use add_argument('-headless')\n",
      "  import sys\n"
     ]
    },
    {
     "ename": "KeyboardInterrupt",
     "evalue": "",
     "output_type": "error",
     "traceback": [
      "\u001b[0;31m---------------------------------------------------------------------------\u001b[0m",
      "\u001b[0;31mKeyboardInterrupt\u001b[0m                         Traceback (most recent call last)",
      "\u001b[0;32m/tmp/ipykernel_65543/3625227179.py\u001b[0m in \u001b[0;36m<module>\u001b[0;34m\u001b[0m\n\u001b[1;32m      1\u001b[0m \u001b[0;31m# On lance notre focntion sur nos bigrammes\u001b[0m\u001b[0;34m\u001b[0m\u001b[0;34m\u001b[0m\u001b[0;34m\u001b[0m\u001b[0m\n\u001b[1;32m      2\u001b[0m \u001b[0;34m\u001b[0m\u001b[0m\n\u001b[0;32m----> 3\u001b[0;31m \u001b[0mwrite_chunks_from_bigrams_burst\u001b[0m\u001b[0;34m(\u001b[0m\u001b[0mburst_clean_no_pause\u001b[0m\u001b[0;34m)\u001b[0m\u001b[0;34m\u001b[0m\u001b[0;34m\u001b[0m\u001b[0m\n\u001b[0m",
      "\u001b[0;32m/tmp/ipykernel_65543/799103646.py\u001b[0m in \u001b[0;36mwrite_chunks_from_bigrams_burst\u001b[0;34m(burst_clean_no_pause)\u001b[0m\n\u001b[1;32m     28\u001b[0m             \u001b[0;31m# On accepte les cookies et les fenetres de popup\u001b[0m\u001b[0;34m\u001b[0m\u001b[0;34m\u001b[0m\u001b[0;34m\u001b[0m\u001b[0m\n\u001b[1;32m     29\u001b[0m             \u001b[0mdriver\u001b[0m\u001b[0;34m.\u001b[0m\u001b[0mswitch_to\u001b[0m\u001b[0;34m.\u001b[0m\u001b[0malert\u001b[0m\u001b[0;34m.\u001b[0m\u001b[0mdismiss\u001b[0m\u001b[0;34m(\u001b[0m\u001b[0;34m)\u001b[0m\u001b[0;34m\u001b[0m\u001b[0;34m\u001b[0m\u001b[0m\n\u001b[0;32m---> 30\u001b[0;31m             \u001b[0mtime\u001b[0m\u001b[0;34m.\u001b[0m\u001b[0msleep\u001b[0m\u001b[0;34m(\u001b[0m\u001b[0;36m2\u001b[0m\u001b[0;34m)\u001b[0m\u001b[0;34m\u001b[0m\u001b[0;34m\u001b[0m\u001b[0m\n\u001b[0m\u001b[1;32m     31\u001b[0m             \u001b[0mtime\u001b[0m\u001b[0;34m.\u001b[0m\u001b[0msleep\u001b[0m\u001b[0;34m(\u001b[0m\u001b[0;36m1\u001b[0m\u001b[0;34m)\u001b[0m\u001b[0;34m\u001b[0m\u001b[0;34m\u001b[0m\u001b[0m\n\u001b[1;32m     32\u001b[0m \u001b[0;34m\u001b[0m\u001b[0m\n",
      "\u001b[0;31mKeyboardInterrupt\u001b[0m: "
     ]
    }
   ],
   "source": [
    "# On lance notre focntion sur nos bigrammes\n",
    "\n",
    "write_chunks_from_bigrams_burst(burst_clean_no_pause)"
   ]
  },
  {
   "cell_type": "code",
   "execution_count": 16,
   "id": "ec6a9759",
   "metadata": {},
   "outputs": [],
   "source": [
    "# Creation d'une liste de 3 éléments avec structure \"mot_avant - pause@ - mot_après\" pour ajouter la position corrécte de\n",
    "# la pause dans le document texte avec les bigrammes chunks\n",
    "\n",
    "pauses_entre_mot = []\n",
    "for bigram in burst_clean_with_pause:\n",
    "    txt = bigram\n",
    "    x = re.search(f\"(([a-zA-Z]|à|â|ä|é|è|ê|ë|î|ï|ô|ö|ù|û|ü|ÿ|ç|À|Â|Ä|Ç|É|È|Ê|Ë|Î|Ï|Ô|Ö|Ù|Û|Ü|Ÿ)*|[^\\s\\w\\d])@(([a-zA-Z]|à|â|ä|é|è|ê|ë|î|ï|ô|ö|ù|û|ü|ÿ|ç|À|Â|Ä|Ç|É|È|Ê|Ë|Î|Ï|Ô|Ö|Ù|Û|Ü|Ÿ)*|[^\\s\\w\\d])\", txt)\n",
    "    x = x[0]\n",
    "    x = word_tokenize(x)\n",
    "    if len(x) == 1:\n",
    "        x.insert(0,\"^\")\n",
    "        x.append(\"$\")\n",
    "    elif len(x) == 2:\n",
    "        if x[1] == \"@\":\n",
    "            x.append(\"$\")\n",
    "        elif x[0] == \"@\":\n",
    "            x.insert(0,\"^\")\n",
    "    pauses_entre_mot.append(x)"
   ]
  },
  {
   "cell_type": "code",
   "execution_count": null,
   "id": "56a94b85",
   "metadata": {},
   "outputs": [],
   "source": [
    "# Insertion du symbole de pause \"@\" entre le bigrammes divisés en chunks. Les données bruité sont traitées avec un\n",
    "# enchainement de \"try\" \"except\"\n",
    "\n",
    "with open(\"../Selenium_SEM_output/bigram_chunks_complete_formulation\",\"r\",encoding=\"utf-8\") as f:\n",
    "    with open(\"../Selenium_SEM_output/bigram_chunks_complete_formulation_with_pauses\",\"a+\",encoding=\"utf-8\") as final_file:\n",
    "        for idx,line in enumerate(f.readlines()):\n",
    "            mot_1 = pauses_entre_mot[idx][0]\n",
    "            mot_2 = pauses_entre_mot[idx][2]  \n",
    "            try:\n",
    "                match_1 = re.search(mot_1,line)\n",
    "                match_2 = re.search(mot_2,line)\n",
    "                set_pause = line[match_1.span()[1]:match_2.span()[0]]\n",
    "                between_chunks = re.search(\"\\)\\s\\(\",set_pause)\n",
    "            except:\n",
    "                try:\n",
    "                    match_1 = re.search(\"\\\\\"+mot_1,line)\n",
    "                    match_2 = re.search(mot_2,line)\n",
    "                    set_pause = line[match_1.span()[1]:match_2.span()[0]]\n",
    "                    between_chunks = re.search(\"\\)\\s\\(\",set_pause)\n",
    "                except:\n",
    "                    match_1 = re.search('\\\"',line)\n",
    "                    match_2 = re.search(mot_2,line)\n",
    "                    set_pause = line[match_1.span()[1]:match_2.span()[0]]\n",
    "                    between_chunks = re.search(\"\\)\\s\\(\",set_pause)\n",
    "        \n",
    "        \n",
    "            if between_chunks is None:\n",
    "                try:\n",
    "                    match_1 = re.search(mot_1,line)\n",
    "                    match_2 = re.search(mot_2,line)\n",
    "                    set_pause = line[match_1.span()[1]:match_2.span()[0]+match_1.span()[0]]\n",
    "                    between_chunks = re.search(\"\\)\\s\\(\",set_pause)\n",
    "                except:\n",
    "                    try:\n",
    "                        match_1 = re.search(\"\\\\\"+mot_1,line)\n",
    "                        match_2 = re.search(mot_2,line)\n",
    "                        set_pause = line[match_1.span()[1]:match_2.span()[0]+match_1.span()[0]]\n",
    "                        between_chunks = re.search(\"\\)\\s\\(\",set_pause)\n",
    "                    except:\n",
    "                        match_1 = re.search('\\\"',line)\n",
    "                        match_2 = re.search(mot_2,line)\n",
    "                        set_pause = line[match_1.span()[1]:match_2.span()[0]+match_1.span()[0]]\n",
    "                        between_chunks = re.search(\"\\)\\s\\(\",set_pause)\n",
    "                if between_chunks is None:\n",
    "                    final_file.write(line[:match_1.span()[1]])\n",
    "                    final_file.write('@')\n",
    "                    final_file.write(line[match_1.span()[1]:])\n",
    "                elif between_chunks[0] == ') (':\n",
    "                    final_file.write(line[:match_1.span()[1]+1])\n",
    "                    final_file.write(')@(')\n",
    "                    final_file.write(line[match_2.span()[0]-3:])\n",
    "            elif between_chunks[0] == ') (':\n",
    "                final_file.write(line[:match_1.span()[1]+1])\n",
    "                final_file.write(')@(')\n",
    "                final_file.write(line[match_2.span()[0]-3:])"
   ]
  },
  {
   "cell_type": "code",
   "execution_count": null,
   "id": "5bcce127",
   "metadata": {},
   "outputs": [],
   "source": [
    "# La chunk \"Adp\" a été coupé en \"dP\" lors du traitement précédent. On rectifie ce petit erreur.\n",
    "\n",
    "with open(\"../Selenium_SEM_output/bigram_chunks_complete_formulation_with_pauses\",\"r\",encoding=\"utf-8\") as f:\n",
    "    with open(\"../Selenium_SEM_output/bigram_chunks_complete_formulation_with_pauses_2\",\"a+\",encoding=\"utf-8\") as final_file:\n",
    "        i = 0\n",
    "        for idx,line in enumerate(f.readlines()):\n",
    "            if line == \"\\n\":\n",
    "                continue\n",
    "            else:\n",
    "                if '@(dP' in line:\n",
    "                    idx_pause = line.find('@')\n",
    "                    line = line[:idx_pause]+'@(AdP'+line[idx_pause+4:]\n",
    "                    final_file.write(line)\n",
    "                else:\n",
    "                    final_file.write(line)"
   ]
  }
 ],
 "metadata": {
  "kernelspec": {
   "display_name": "Python 3 (ipykernel)",
   "language": "python",
   "name": "python3"
  },
  "language_info": {
   "codemirror_mode": {
    "name": "ipython",
    "version": 3
   },
   "file_extension": ".py",
   "mimetype": "text/x-python",
   "name": "python",
   "nbconvert_exporter": "python",
   "pygments_lexer": "ipython3",
   "version": "3.7.5"
  }
 },
 "nbformat": 4,
 "nbformat_minor": 5
}
